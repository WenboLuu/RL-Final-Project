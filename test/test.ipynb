{
 "cells": [
  {
   "cell_type": "code",
   "execution_count": 1,
   "metadata": {},
   "outputs": [],
   "source": [
    "import cv2\n",
    "import matplotlib.pyplot as plt\n",
    "import torch\n",
    "from IPython import display\n",
    "from constants import DTYPE_STATE\n",
    "\n",
    "\n",
    "def stack_preprocess_frames_old(frames, device=\"cpu\", mode=\"grayscale\"):\n",
    "    frames = [torch.tensor(preprocess_frame(frame, mode=mode), device=device, dtype=DTYPE_STATE) for frame in frames]\n",
    "    stacked_frames_tensor = torch.stack(frames)\n",
    "    if mode == \"grayscale\":\n",
    "        stacked_frames_tensor = stacked_frames_tensor.unsqueeze(1)  # Add channel dimension for grayscale\n",
    "    elif mode == \"rgb\":\n",
    "        stacked_frames_tensor = stacked_frames_tensor.permute(0, 3, 1, 2).contiguous()  # Rearrange dimensions for RGB\n",
    "    else:\n",
    "        raise ValueError(\"Invalid mode: choose 'grayscale' or 'rgb'\")\n",
    "    return stacked_frames_tensor\n",
    "\n",
    "\n",
    "def preprocess_frame(frame, mode=\"grayscale\"):\n",
    "    \"\"\"\n",
    "    Preprocesses a given frame by converting it to the specified mode and resizing it to 84x84.\n",
    "\n",
    "    Parameters:\n",
    "    - frame: The input frame in RGB format.\n",
    "    - mode: 'grayscale' or 'rgb'.\n",
    "\n",
    "    Returns:\n",
    "    - The preprocessed frame.\n",
    "    \"\"\"\n",
    "    if mode == \"grayscale\":\n",
    "        frame = cv2.cvtColor(frame, cv2.COLOR_RGB2GRAY)\n",
    "        frame = cv2.resize(frame, (84, 84))\n",
    "    elif mode == \"rgb\":\n",
    "        frame = cv2.resize(frame, (84, 84))\n",
    "    else:\n",
    "        raise ValueError(\"Invalid mode: choose 'grayscale' or 'rgb'\")\n",
    "    return frame"
   ]
  },
  {
   "cell_type": "code",
   "execution_count": 15,
   "metadata": {},
   "outputs": [],
   "source": [
    "import torch\n",
    "import torchvision.transforms as T\n",
    "import numpy as np\n",
    "\n",
    "device = torch.device(\"cuda:1\" if torch.cuda.is_available() else \"cpu\")\n",
    "\n",
    "\n",
    "def stack_preprocess_frames_new(frames, device=\"cpu\", mode=\"grayscale\"):\n",
    "    \"\"\"\n",
    "    Efficiently preprocesses and stacks frames using torchvision transforms.\n",
    "\n",
    "    Parameters:\n",
    "    - frames: List of input frames in RGB format (as NumPy arrays or equivalent).\n",
    "    - device: The device to place the tensors on ('cpu' or 'cuda').\n",
    "    - mode: 'grayscale' or 'rgb'.\n",
    "    - dtype: The desired output data type (default: uint8 for image data).\n",
    "\n",
    "    Returns:\n",
    "    - A tensor of preprocessed frames with the specified dtype.\n",
    "    \"\"\"\n",
    "    # Define transformations\n",
    "    if mode == \"grayscale\":\n",
    "        transform = T.Compose([T.Resize((84, 84)), T.Grayscale(num_output_channels=1)])\n",
    "    elif mode == \"rgb\":\n",
    "        transform = T.Compose([T.Resize((84, 84))])\n",
    "    else:\n",
    "        raise ValueError(\"Invalid mode: choose 'grayscale' or 'rgb'\")\n",
    "\n",
    "    # Apply transformations to all frames and stack them\n",
    "    frames = np.stack(frames)\n",
    "    frames_tensor = torch.from_numpy(frames).to(device).permute(0, 3, 1, 2)\n",
    "    frames_tensor = transform(frames_tensor)\n",
    "\n",
    "    return frames_tensor"
   ]
  },
  {
   "cell_type": "code",
   "execution_count": 16,
   "metadata": {},
   "outputs": [
    {
     "name": "stdout",
     "output_type": "stream",
     "text": [
      "percentage improvement: 604.62%\n"
     ]
    }
   ],
   "source": [
    "import torch.utils.benchmark as benchmark\n",
    "\n",
    "import numpy as np\n",
    "\n",
    "# Create sample frames (3 frames of 84x84 RGB images)\n",
    "sample_frames = [np.random.randint(0, 256, (96, 96, 3), dtype=np.uint8) for _ in range(1000)]\n",
    "\n",
    "# Define the setup code\n",
    "setup_code = \"\"\"\n",
    "import torch\n",
    "from __main__ import stack_preprocess_frames_old, stack_preprocess_frames_new, sample_frames\n",
    "\"\"\"\n",
    "\n",
    "# Define the statements to be timed\n",
    "stmt_old = \"stack_preprocess_frames_old(sample_frames, device='cuda:1', mode='grayscale')\"\n",
    "stmt_new = \"stack_preprocess_frames_new(sample_frames, device='cuda:1', mode='grayscale')\"\n",
    "\n",
    "# Create Timer objects\n",
    "timer_old = benchmark.Timer(stmt=stmt_old, setup=setup_code)\n",
    "timer_new = benchmark.Timer(stmt=stmt_new, setup=setup_code)\n",
    "\n",
    "# Run the benchmarks using adaptive_autorange\n",
    "result_old = timer_old.adaptive_autorange()\n",
    "result_new = timer_new.adaptive_autorange()\n",
    "\n",
    "print(f\"percentage improvement: {result_old.median / result_new.median * 100:.2f}%\")"
   ]
  },
  {
   "cell_type": "code",
   "execution_count": 20,
   "metadata": {},
   "outputs": [
    {
     "data": {
      "text/plain": [
       "True"
      ]
     },
     "execution_count": 20,
     "metadata": {},
     "output_type": "execute_result"
    }
   ],
   "source": [
    "new = stack_preprocess_frames_new(sample_frames, device=\"cuda:1\", mode=\"grayscale\")\n",
    "old = stack_preprocess_frames_old(sample_frames, device=\"cuda:1\", mode=\"grayscale\")\n",
    "\n",
    "torch.allclose(new, old, rtol=10)"
   ]
  },
  {
   "cell_type": "code",
   "execution_count": null,
   "metadata": {},
   "outputs": [],
   "source": []
  },
  {
   "cell_type": "code",
   "execution_count": null,
   "metadata": {},
   "outputs": [],
   "source": []
  }
 ],
 "metadata": {
  "kernelspec": {
   "display_name": "rl_env",
   "language": "python",
   "name": "python3"
  },
  "language_info": {
   "codemirror_mode": {
    "name": "ipython",
    "version": 3
   },
   "file_extension": ".py",
   "mimetype": "text/x-python",
   "name": "python",
   "nbconvert_exporter": "python",
   "pygments_lexer": "ipython3",
   "version": "3.12.7"
  }
 },
 "nbformat": 4,
 "nbformat_minor": 2
}
